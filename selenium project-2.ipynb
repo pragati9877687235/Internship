{
 "cells": [
  {
   "cell_type": "code",
   "execution_count": 73,
   "id": "2b85939c",
   "metadata": {},
   "outputs": [],
   "source": [
    "# selenium web scrapping"
   ]
  },
  {
   "cell_type": "markdown",
   "id": "aecca68e",
   "metadata": {},
   "source": [
    "# selenium project -1"
   ]
  },
  {
   "cell_type": "code",
   "execution_count": 74,
   "id": "f2730e12",
   "metadata": {},
   "outputs": [
    {
     "name": "stdout",
     "output_type": "stream",
     "text": [
      "Requirement already satisfied: selenium in c:\\users\\navin\\anaconda3\\lib\\site-packages (4.1.2)\n",
      "Requirement already satisfied: urllib3[secure,socks]~=1.26 in c:\\users\\navin\\anaconda3\\lib\\site-packages (from selenium) (1.26.7)\n",
      "Requirement already satisfied: trio~=0.17 in c:\\users\\navin\\anaconda3\\lib\\site-packages (from selenium) (0.20.0)\n",
      "Requirement already satisfied: trio-websocket~=0.9 in c:\\users\\navin\\anaconda3\\lib\\site-packages (from selenium) (0.9.2)\n",
      "Requirement already satisfied: attrs>=19.2.0 in c:\\users\\navin\\anaconda3\\lib\\site-packages (from trio~=0.17->selenium) (21.2.0)\n",
      "Requirement already satisfied: idna in c:\\users\\navin\\anaconda3\\lib\\site-packages (from trio~=0.17->selenium) (3.2)\n",
      "Requirement already satisfied: sniffio in c:\\users\\navin\\anaconda3\\lib\\site-packages (from trio~=0.17->selenium) (1.2.0)\n",
      "Requirement already satisfied: outcome in c:\\users\\navin\\anaconda3\\lib\\site-packages (from trio~=0.17->selenium) (1.1.0)\n",
      "Requirement already satisfied: async-generator>=1.9 in c:\\users\\navin\\anaconda3\\lib\\site-packages (from trio~=0.17->selenium) (1.10)\n",
      "Requirement already satisfied: sortedcontainers in c:\\users\\navin\\anaconda3\\lib\\site-packages (from trio~=0.17->selenium) (2.4.0)\n",
      "Requirement already satisfied: cffi>=1.14 in c:\\users\\navin\\anaconda3\\lib\\site-packages (from trio~=0.17->selenium) (1.14.6)\n",
      "Requirement already satisfied: pycparser in c:\\users\\navin\\anaconda3\\lib\\site-packages (from cffi>=1.14->trio~=0.17->selenium) (2.20)\n",
      "Requirement already satisfied: wsproto>=0.14 in c:\\users\\navin\\anaconda3\\lib\\site-packages (from trio-websocket~=0.9->selenium) (1.1.0)\n",
      "Requirement already satisfied: pyOpenSSL>=0.14 in c:\\users\\navin\\anaconda3\\lib\\site-packages (from urllib3[secure,socks]~=1.26->selenium) (21.0.0)\n",
      "Requirement already satisfied: cryptography>=1.3.4 in c:\\users\\navin\\anaconda3\\lib\\site-packages (from urllib3[secure,socks]~=1.26->selenium) (3.4.8)\n",
      "Requirement already satisfied: certifi in c:\\users\\navin\\anaconda3\\lib\\site-packages (from urllib3[secure,socks]~=1.26->selenium) (2021.10.8)\n",
      "Requirement already satisfied: PySocks!=1.5.7,<2.0,>=1.5.6 in c:\\users\\navin\\anaconda3\\lib\\site-packages (from urllib3[secure,socks]~=1.26->selenium) (1.7.1)\n",
      "Requirement already satisfied: six>=1.5.2 in c:\\users\\navin\\anaconda3\\lib\\site-packages (from pyOpenSSL>=0.14->urllib3[secure,socks]~=1.26->selenium) (1.16.0)\n",
      "Requirement already satisfied: h11<1,>=0.9.0 in c:\\users\\navin\\anaconda3\\lib\\site-packages (from wsproto>=0.14->trio-websocket~=0.9->selenium) (0.13.0)\n"
     ]
    }
   ],
   "source": [
    "!pip install selenium"
   ]
  },
  {
   "cell_type": "code",
   "execution_count": 75,
   "id": "bf936a6a",
   "metadata": {},
   "outputs": [],
   "source": [
    "import selenium\n",
    "from selenium import webdriver\n",
    "import pandas as pd \n",
    "import warnings\n",
    "warnings.filterwarnings(\"ignore\")   \n",
    " "
   ]
  },
  {
   "cell_type": "code",
   "execution_count": 162,
   "id": "dcdbcb18",
   "metadata": {},
   "outputs": [],
   "source": [
    " driver= webdriver.Chrome(r'C:/Users/navin/chromedriver.exe')"
   ]
  },
  {
   "cell_type": "code",
   "execution_count": 163,
   "id": "de6567e3",
   "metadata": {},
   "outputs": [],
   "source": [
    " driver= webdriver.Chrome(\"chromedriver.exe\")"
   ]
  },
  {
   "cell_type": "code",
   "execution_count": 164,
   "id": "0d3035fc",
   "metadata": {},
   "outputs": [],
   "source": [
    "url= 'https://www.naukri.com/'\n",
    "driver.get(url) "
   ]
  },
  {
   "cell_type": "code",
   "execution_count": 165,
   "id": "2f1306f3",
   "metadata": {},
   "outputs": [
    {
     "data": {
      "text/plain": [
       "<selenium.webdriver.remote.webelement.WebElement (session=\"ff829f35366c05cf6204bf2b72adce45\", element=\"571f0ea3-7eff-4e4c-88f2-454f22b77812\")>"
      ]
     },
     "execution_count": 165,
     "metadata": {},
     "output_type": "execute_result"
    }
   ],
   "source": [
    "search_job = driver.find_element_by_class_name(\"suggestor-input\")\n",
    "search_job"
   ]
  },
  {
   "cell_type": "code",
   "execution_count": 166,
   "id": "72db3690",
   "metadata": {},
   "outputs": [],
   "source": [
    "search_job.send_keys(\"Data analyst\")"
   ]
  },
  {
   "cell_type": "code",
   "execution_count": 167,
   "id": "57913ab1",
   "metadata": {},
   "outputs": [
    {
     "data": {
      "text/plain": [
       "<selenium.webdriver.remote.webelement.WebElement (session=\"ff829f35366c05cf6204bf2b72adce45\", element=\"ec98f963-3ee4-464f-a4ad-273b55294fe3\")>"
      ]
     },
     "execution_count": 167,
     "metadata": {},
     "output_type": "execute_result"
    }
   ],
   "source": [
    "search_locn = driver.find_element_by_xpath(\"/html/body/div/div[2]/div[3]/div/div/div[3]/div/div/div/input\")\n",
    "search_locn"
   ]
  },
  {
   "cell_type": "code",
   "execution_count": 168,
   "id": "f18c711b",
   "metadata": {},
   "outputs": [],
   "source": [
    "search_locn.send_keys(\"Bangalore\")"
   ]
  },
  {
   "cell_type": "code",
   "execution_count": 169,
   "id": "95bf8532",
   "metadata": {},
   "outputs": [
    {
     "data": {
      "text/plain": [
       "<selenium.webdriver.remote.webelement.WebElement (session=\"ff829f35366c05cf6204bf2b72adce45\", element=\"5ee67ba9-12a1-4d3a-9d99-5685867db4ea\")>"
      ]
     },
     "execution_count": 169,
     "metadata": {},
     "output_type": "execute_result"
    }
   ],
   "source": [
    "search_btn = driver.find_element_by_xpath('/html/body/div/div[2]/div[3]/div/div/div[6]')\n",
    "search_btn"
   ]
  },
  {
   "cell_type": "code",
   "execution_count": 170,
   "id": "ce893063",
   "metadata": {},
   "outputs": [
    {
     "data": {
      "text/plain": [
       "<selenium.webdriver.remote.webelement.WebElement (session=\"ff829f35366c05cf6204bf2b72adce45\", element=\"5ee67ba9-12a1-4d3a-9d99-5685867db4ea\")>"
      ]
     },
     "execution_count": 170,
     "metadata": {},
     "output_type": "execute_result"
    }
   ],
   "source": [
    "search_btn = driver.find_element_by_xpath('/html/body/div/div[2]/div[3]/div/div/div[6]')\n",
    "search_btn"
   ]
  },
  {
   "cell_type": "code",
   "execution_count": 171,
   "id": "314161f2",
   "metadata": {},
   "outputs": [],
   "source": [
    "search_btn.click()"
   ]
  },
  {
   "cell_type": "code",
   "execution_count": 172,
   "id": "87f3c4fd",
   "metadata": {},
   "outputs": [
    {
     "data": {
      "text/plain": [
       "20"
      ]
     },
     "execution_count": 172,
     "metadata": {},
     "output_type": "execute_result"
    }
   ],
   "source": [
    "     # scraping titles through selenium\n",
    "titles = driver.find_elements_by_xpath('//a [@class=\"title fw500 ellipsis\"]')\n",
    "job_titles = []\n",
    "\n",
    "for i in titles:\n",
    "    job_titles.append(i.text)\n",
    "job_titles[:10]\n",
    "len(job_titles)"
   ]
  },
  {
   "cell_type": "code",
   "execution_count": 173,
   "id": "ebb33fa4",
   "metadata": {},
   "outputs": [
    {
     "data": {
      "text/plain": [
       "20"
      ]
     },
     "execution_count": 173,
     "metadata": {},
     "output_type": "execute_result"
    }
   ],
   "source": [
    "     #scraping locations \n",
    "locations = driver.find_elements_by_xpath('//li [@class=\"fleft grey-text br2 placeHolderLi location\"] ') \n",
    "location = []\n",
    "\n",
    "for i in locations:\n",
    "    location.append(i.text)\n",
    "location[:10]\n",
    "len(location)\n"
   ]
  },
  {
   "cell_type": "code",
   "execution_count": 174,
   "id": "44b6bb2b",
   "metadata": {},
   "outputs": [
    {
     "data": {
      "text/plain": [
       "20"
      ]
     },
     "execution_count": 174,
     "metadata": {},
     "output_type": "execute_result"
    }
   ],
   "source": [
    "    #scraping company name\n",
    "company_name = driver.find_elements_by_xpath('//a [@class=\"subTitle ellipsis fleft\"]')\n",
    "company = []\n",
    "\n",
    "for i in company_name:\n",
    "     company.append(i.text)\n",
    "company[:10]\n",
    "len(company)"
   ]
  },
  {
   "cell_type": "code",
   "execution_count": 175,
   "id": "39919d5c",
   "metadata": {},
   "outputs": [
    {
     "data": {
      "text/plain": [
       "20"
      ]
     },
     "execution_count": 175,
     "metadata": {},
     "output_type": "execute_result"
    }
   ],
   "source": [
    "    #sraping experience\n",
    "exp_tag = driver.find_elements_by_xpath('//div [@class=\"job-description fs12 grey-text\"]')\n",
    "experience = []\n",
    "\n",
    "for i in exp_tag:\n",
    "     experience.append(i.text)\n",
    "experience[:10]\n",
    "len(experience)"
   ]
  },
  {
   "cell_type": "code",
   "execution_count": 176,
   "id": "5091d8b8",
   "metadata": {},
   "outputs": [
    {
     "data": {
      "text/html": [
       "<div>\n",
       "<style scoped>\n",
       "    .dataframe tbody tr th:only-of-type {\n",
       "        vertical-align: middle;\n",
       "    }\n",
       "\n",
       "    .dataframe tbody tr th {\n",
       "        vertical-align: top;\n",
       "    }\n",
       "\n",
       "    .dataframe thead th {\n",
       "        text-align: right;\n",
       "    }\n",
       "</style>\n",
       "<table border=\"1\" class=\"dataframe\">\n",
       "  <thead>\n",
       "    <tr style=\"text-align: right;\">\n",
       "      <th></th>\n",
       "      <th>job_titles</th>\n",
       "      <th>Location</th>\n",
       "      <th>Company</th>\n",
       "      <th>Experience</th>\n",
       "    </tr>\n",
       "  </thead>\n",
       "  <tbody>\n",
       "    <tr>\n",
       "      <th>0</th>\n",
       "      <td>Hiring For Data Analyst I(SQL &amp; Python)</td>\n",
       "      <td>Bangalore/Bengaluru</td>\n",
       "      <td>Clario India Pvt Ltd</td>\n",
       "      <td>1. Should have minimum 1year of hands in exper...</td>\n",
       "    </tr>\n",
       "    <tr>\n",
       "      <th>1</th>\n",
       "      <td>Data Analyst - 3rd Party Payroll</td>\n",
       "      <td>Bangalore/Bengaluru</td>\n",
       "      <td>Flipkart</td>\n",
       "      <td>Responsibilities And DutiesWork closely with t...</td>\n",
       "    </tr>\n",
       "    <tr>\n",
       "      <th>2</th>\n",
       "      <td>Data Analyst I</td>\n",
       "      <td>Bangalore/Bengaluru</td>\n",
       "      <td>Cerner</td>\n",
       "      <td>At least 4 years Additional work experience di...</td>\n",
       "    </tr>\n",
       "    <tr>\n",
       "      <th>3</th>\n",
       "      <td>Senior Data Analyst II</td>\n",
       "      <td>Bangalore/Bengaluru</td>\n",
       "      <td>Flipkart</td>\n",
       "      <td>Bachelors in Engineering, Computer Science, Ma...</td>\n",
       "    </tr>\n",
       "    <tr>\n",
       "      <th>4</th>\n",
       "      <td>Senior Data Analyst</td>\n",
       "      <td>Bangalore/Bengaluru</td>\n",
       "      <td>Flipkart</td>\n",
       "      <td>Along with this, you will be expected to have ...</td>\n",
       "    </tr>\n",
       "    <tr>\n",
       "      <th>5</th>\n",
       "      <td>Senior Data Analyst II</td>\n",
       "      <td>Bangalore/Bengaluru</td>\n",
       "      <td>Flipkart</td>\n",
       "      <td>Able to envision &amp; implement the optimal data ...</td>\n",
       "    </tr>\n",
       "    <tr>\n",
       "      <th>6</th>\n",
       "      <td>Senior Data Analyst II</td>\n",
       "      <td>Bangalore/Bengaluru</td>\n",
       "      <td>Flipkart</td>\n",
       "      <td>Able to envision &amp; implement the optimal data ...</td>\n",
       "    </tr>\n",
       "    <tr>\n",
       "      <th>7</th>\n",
       "      <td>Senior Data Analyst - Ads &amp; Promotion Platform...</td>\n",
       "      <td>Bangalore/Bengaluru</td>\n",
       "      <td>Gojek</td>\n",
       "      <td>A Bachelor s degree in any field At least 3 ye...</td>\n",
       "    </tr>\n",
       "    <tr>\n",
       "      <th>8</th>\n",
       "      <td>Hiring Data analyst with Pharma Background acr...</td>\n",
       "      <td>Hyderabad/Secunderabad, Chennai, Bangalore/Ben...</td>\n",
       "      <td>HCL</td>\n",
       "      <td>Ability to perform data analysis &amp; hands-on ex...</td>\n",
       "    </tr>\n",
       "    <tr>\n",
       "      <th>9</th>\n",
       "      <td>Data Analyst</td>\n",
       "      <td>Bangalore/Bengaluru</td>\n",
       "      <td>Zolostays Property Solutions Pvt. Ltd.</td>\n",
       "      <td>Reduce data to the bare minimum of what is nee...</td>\n",
       "    </tr>\n",
       "  </tbody>\n",
       "</table>\n",
       "</div>"
      ],
      "text/plain": [
       "                                          job_titles  \\\n",
       "0            Hiring For Data Analyst I(SQL & Python)   \n",
       "1                   Data Analyst - 3rd Party Payroll   \n",
       "2                                     Data Analyst I   \n",
       "3                             Senior Data Analyst II   \n",
       "4                                Senior Data Analyst   \n",
       "5                             Senior Data Analyst II   \n",
       "6                             Senior Data Analyst II   \n",
       "7  Senior Data Analyst - Ads & Promotion Platform...   \n",
       "8  Hiring Data analyst with Pharma Background acr...   \n",
       "9                                       Data Analyst   \n",
       "\n",
       "                                            Location  \\\n",
       "0                                Bangalore/Bengaluru   \n",
       "1                                Bangalore/Bengaluru   \n",
       "2                                Bangalore/Bengaluru   \n",
       "3                                Bangalore/Bengaluru   \n",
       "4                                Bangalore/Bengaluru   \n",
       "5                                Bangalore/Bengaluru   \n",
       "6                                Bangalore/Bengaluru   \n",
       "7                                Bangalore/Bengaluru   \n",
       "8  Hyderabad/Secunderabad, Chennai, Bangalore/Ben...   \n",
       "9                                Bangalore/Bengaluru   \n",
       "\n",
       "                                  Company  \\\n",
       "0                    Clario India Pvt Ltd   \n",
       "1                                Flipkart   \n",
       "2                                  Cerner   \n",
       "3                                Flipkart   \n",
       "4                                Flipkart   \n",
       "5                                Flipkart   \n",
       "6                                Flipkart   \n",
       "7                                   Gojek   \n",
       "8                                     HCL   \n",
       "9  Zolostays Property Solutions Pvt. Ltd.   \n",
       "\n",
       "                                          Experience  \n",
       "0  1. Should have minimum 1year of hands in exper...  \n",
       "1  Responsibilities And DutiesWork closely with t...  \n",
       "2  At least 4 years Additional work experience di...  \n",
       "3  Bachelors in Engineering, Computer Science, Ma...  \n",
       "4  Along with this, you will be expected to have ...  \n",
       "5  Able to envision & implement the optimal data ...  \n",
       "6  Able to envision & implement the optimal data ...  \n",
       "7  A Bachelor s degree in any field At least 3 ye...  \n",
       "8  Ability to perform data analysis & hands-on ex...  \n",
       "9  Reduce data to the bare minimum of what is nee...  "
      ]
     },
     "execution_count": 176,
     "metadata": {},
     "output_type": "execute_result"
    }
   ],
   "source": [
    "# final dataframe\n",
    "jobs =  pd.DataFrame()\n",
    "jobs['job_titles'] = job_titles[:10]\n",
    "jobs['Location'] = location[:10]\n",
    "jobs['Company'] = company[:10] \n",
    "jobs['Experience'] = experience[:10]\n",
    "jobs\n"
   ]
  },
  {
   "cell_type": "markdown",
   "id": "6669d513",
   "metadata": {},
   "source": [
    "# no...2"
   ]
  },
  {
   "cell_type": "code",
   "execution_count": 177,
   "id": "bf491a9d",
   "metadata": {},
   "outputs": [],
   "source": [
    "# data scientist web scrapping\n",
    "\n",
    "url= 'https://www.naukri.com/'\n",
    "driver.get(url) "
   ]
  },
  {
   "cell_type": "code",
   "execution_count": 178,
   "id": "096c8c61",
   "metadata": {},
   "outputs": [
    {
     "data": {
      "text/plain": [
       "<selenium.webdriver.remote.webelement.WebElement (session=\"ff829f35366c05cf6204bf2b72adce45\", element=\"0419a55d-c2f5-46f2-9e3d-e77270c6989c\")>"
      ]
     },
     "execution_count": 178,
     "metadata": {},
     "output_type": "execute_result"
    }
   ],
   "source": [
    "search_job = driver.find_element_by_class_name(\"suggestor-input\")\n",
    "search_job"
   ]
  },
  {
   "cell_type": "code",
   "execution_count": 179,
   "id": "345efdff",
   "metadata": {},
   "outputs": [],
   "source": [
    "search_job.send_keys('Data scientist')"
   ]
  },
  {
   "cell_type": "code",
   "execution_count": 180,
   "id": "9d395a96",
   "metadata": {},
   "outputs": [
    {
     "data": {
      "text/plain": [
       "<selenium.webdriver.remote.webelement.WebElement (session=\"ff829f35366c05cf6204bf2b72adce45\", element=\"31c62adf-4231-406d-8111-39bc2cbc03de\")>"
      ]
     },
     "execution_count": 180,
     "metadata": {},
     "output_type": "execute_result"
    }
   ],
   "source": [
    "search_locn = driver.find_element_by_xpath(\"/html/body/div/div[2]/div[3]/div/div/div[3]/div/div/div/input\")\n",
    "search_locn"
   ]
  },
  {
   "cell_type": "code",
   "execution_count": 181,
   "id": "e8846576",
   "metadata": {},
   "outputs": [],
   "source": [
    "search_locn.send_keys(\"Bangalore\")"
   ]
  },
  {
   "cell_type": "code",
   "execution_count": 182,
   "id": "5b0fc7d3",
   "metadata": {},
   "outputs": [
    {
     "data": {
      "text/plain": [
       "<selenium.webdriver.remote.webelement.WebElement (session=\"ff829f35366c05cf6204bf2b72adce45\", element=\"9b9d2837-6156-4044-8395-cef1d30aebcb\")>"
      ]
     },
     "execution_count": 182,
     "metadata": {},
     "output_type": "execute_result"
    }
   ],
   "source": [
    "search_btn = driver.find_element_by_xpath('/html/body/div/div[2]/div[3]/div/div/div[6]')\n",
    "search_btn"
   ]
  },
  {
   "cell_type": "code",
   "execution_count": 183,
   "id": "85a3904b",
   "metadata": {},
   "outputs": [
    {
     "data": {
      "text/plain": [
       "<selenium.webdriver.remote.webelement.WebElement (session=\"ff829f35366c05cf6204bf2b72adce45\", element=\"9b9d2837-6156-4044-8395-cef1d30aebcb\")>"
      ]
     },
     "execution_count": 183,
     "metadata": {},
     "output_type": "execute_result"
    }
   ],
   "source": [
    "search_btn = driver.find_element_by_xpath('/html/body/div/div[2]/div[3]/div/div/div[6]')\n",
    "search_btn"
   ]
  },
  {
   "cell_type": "code",
   "execution_count": 184,
   "id": "b7130919",
   "metadata": {},
   "outputs": [],
   "source": [
    "search_btn.click()"
   ]
  },
  {
   "cell_type": "code",
   "execution_count": 185,
   "id": "0d158933",
   "metadata": {},
   "outputs": [
    {
     "data": {
      "text/html": [
       "<div>\n",
       "<style scoped>\n",
       "    .dataframe tbody tr th:only-of-type {\n",
       "        vertical-align: middle;\n",
       "    }\n",
       "\n",
       "    .dataframe tbody tr th {\n",
       "        vertical-align: top;\n",
       "    }\n",
       "\n",
       "    .dataframe thead th {\n",
       "        text-align: right;\n",
       "    }\n",
       "</style>\n",
       "<table border=\"1\" class=\"dataframe\">\n",
       "  <thead>\n",
       "    <tr style=\"text-align: right;\">\n",
       "      <th></th>\n",
       "      <th>job_titles</th>\n",
       "      <th>job_location</th>\n",
       "      <th>job_company</th>\n",
       "    </tr>\n",
       "  </thead>\n",
       "  <tbody>\n",
       "    <tr>\n",
       "      <th>0</th>\n",
       "      <td>Data Scientist / Sr. Data Engineer</td>\n",
       "      <td>Bangalore/Bengaluru(Sadashiva Nagar)\\n(WFH dur...</td>\n",
       "      <td>Convergence Infotech Ltd</td>\n",
       "    </tr>\n",
       "    <tr>\n",
       "      <th>1</th>\n",
       "      <td>Data Scientist III</td>\n",
       "      <td>Bangalore/Bengaluru</td>\n",
       "      <td>Groupon</td>\n",
       "    </tr>\n",
       "    <tr>\n",
       "      <th>2</th>\n",
       "      <td>Sr Data Scientist</td>\n",
       "      <td>Bangalore/Bengaluru</td>\n",
       "      <td>Uber</td>\n",
       "    </tr>\n",
       "    <tr>\n",
       "      <th>3</th>\n",
       "      <td>Assistant Manager/Manager/Senior Manager - Dat...</td>\n",
       "      <td>Delhi / NCR, Bangalore/Bengaluru</td>\n",
       "      <td>Huquo Consulting Pvt. Ltd</td>\n",
       "    </tr>\n",
       "    <tr>\n",
       "      <th>4</th>\n",
       "      <td>HCL Tech Opening - Lead Data Scientist</td>\n",
       "      <td>Kolkata, Hyderabad/Secunderabad, Pune, Chennai...</td>\n",
       "      <td>HCL</td>\n",
       "    </tr>\n",
       "    <tr>\n",
       "      <th>5</th>\n",
       "      <td>Sr . Data Scientist</td>\n",
       "      <td>Bangalore/Bengaluru</td>\n",
       "      <td>Visa</td>\n",
       "    </tr>\n",
       "    <tr>\n",
       "      <th>6</th>\n",
       "      <td>Need Data scientists and data engineers - WFH-...</td>\n",
       "      <td>Hyderabad/Secunderabad, Bangalore/Bengaluru, M...</td>\n",
       "      <td>Covalense Technologies Private Limited</td>\n",
       "    </tr>\n",
       "    <tr>\n",
       "      <th>7</th>\n",
       "      <td>Principal Data Scientist</td>\n",
       "      <td>Bangalore/Bengaluru</td>\n",
       "      <td>Mobile Premier League</td>\n",
       "    </tr>\n",
       "    <tr>\n",
       "      <th>8</th>\n",
       "      <td>Data Scientist</td>\n",
       "      <td>Bangalore/Bengaluru</td>\n",
       "      <td>Shell</td>\n",
       "    </tr>\n",
       "    <tr>\n",
       "      <th>9</th>\n",
       "      <td>Data Scientist</td>\n",
       "      <td>Pune, Gurgaon/Gurugram, Chennai, Bangalore/Ben...</td>\n",
       "      <td>HDFC Bank</td>\n",
       "    </tr>\n",
       "  </tbody>\n",
       "</table>\n",
       "</div>"
      ],
      "text/plain": [
       "                                          job_titles  \\\n",
       "0                 Data Scientist / Sr. Data Engineer   \n",
       "1                                 Data Scientist III   \n",
       "2                                  Sr Data Scientist   \n",
       "3  Assistant Manager/Manager/Senior Manager - Dat...   \n",
       "4             HCL Tech Opening - Lead Data Scientist   \n",
       "5                                Sr . Data Scientist   \n",
       "6  Need Data scientists and data engineers - WFH-...   \n",
       "7                           Principal Data Scientist   \n",
       "8                                     Data Scientist   \n",
       "9                                     Data Scientist   \n",
       "\n",
       "                                        job_location  \\\n",
       "0  Bangalore/Bengaluru(Sadashiva Nagar)\\n(WFH dur...   \n",
       "1                                Bangalore/Bengaluru   \n",
       "2                                Bangalore/Bengaluru   \n",
       "3                   Delhi / NCR, Bangalore/Bengaluru   \n",
       "4  Kolkata, Hyderabad/Secunderabad, Pune, Chennai...   \n",
       "5                                Bangalore/Bengaluru   \n",
       "6  Hyderabad/Secunderabad, Bangalore/Bengaluru, M...   \n",
       "7                                Bangalore/Bengaluru   \n",
       "8                                Bangalore/Bengaluru   \n",
       "9  Pune, Gurgaon/Gurugram, Chennai, Bangalore/Ben...   \n",
       "\n",
       "                              job_company  \n",
       "0                Convergence Infotech Ltd  \n",
       "1                                 Groupon  \n",
       "2                                    Uber  \n",
       "3               Huquo Consulting Pvt. Ltd  \n",
       "4                                     HCL  \n",
       "5                                    Visa  \n",
       "6  Covalense Technologies Private Limited  \n",
       "7                   Mobile Premier League  \n",
       "8                                   Shell  \n",
       "9                               HDFC Bank  "
      ]
     },
     "execution_count": 185,
     "metadata": {},
     "output_type": "execute_result"
    }
   ],
   "source": [
    "# title scraping\n",
    "job_titles = driver.find_elements_by_xpath('//a [@class=\"title fw500 ellipsis\"]')\n",
    "\n",
    "titles = []\n",
    "\n",
    "for i in job_titles:\n",
    "    titles.append(i.text)\n",
    "titles[:10]\n",
    "\n",
    "# location scraping\n",
    "job_location = driver.find_elements_by_xpath('//li [@class=\"fleft grey-text br2 placeHolderLi location\"]')\n",
    "\n",
    "location = []\n",
    "\n",
    "for i in job_location:\n",
    "    location.append(i.text)\n",
    "location[:10]\n",
    "\n",
    "\n",
    "# company name scraping\n",
    "company_name = driver.find_elements_by_xpath('//a [@class=\"subTitle ellipsis fleft\"]')\n",
    "\n",
    "company = []\n",
    "\n",
    "for i in company_name:\n",
    "    company.append(i.text)\n",
    "company[:10]\n",
    "\n",
    "# Final Dataframe\n",
    "jobs = pd.DataFrame()\n",
    "jobs['job_titles'] = titles[:10]\n",
    "jobs['job_location'] = location[:10]\n",
    "jobs['job_company'] = company[:10]\n",
    "jobs\n"
   ]
  },
  {
   "cell_type": "code",
   "execution_count": null,
   "id": "08f982e1",
   "metadata": {},
   "outputs": [],
   "source": []
  },
  {
   "cell_type": "markdown",
   "id": "ea0127e4",
   "metadata": {},
   "source": [
    "# no...3 data scientist"
   ]
  },
  {
   "cell_type": "code",
   "execution_count": 232,
   "id": "fdd2a0ee",
   "metadata": {},
   "outputs": [],
   "source": [
    "# scraping data scientist\n",
    "\n",
    "url= 'https://www.naukri.com/'\n",
    "driver.get(url) "
   ]
  },
  {
   "cell_type": "code",
   "execution_count": 233,
   "id": "95cf4520",
   "metadata": {},
   "outputs": [
    {
     "data": {
      "text/plain": [
       "<selenium.webdriver.remote.webelement.WebElement (session=\"ff829f35366c05cf6204bf2b72adce45\", element=\"99ff7f16-5d59-4240-a472-d802dc9a2a86\")>"
      ]
     },
     "execution_count": 233,
     "metadata": {},
     "output_type": "execute_result"
    }
   ],
   "source": [
    "search_job = driver.find_element_by_class_name(\"suggestor-input\")\n",
    "search_job"
   ]
  },
  {
   "cell_type": "code",
   "execution_count": 244,
   "id": "56c10987",
   "metadata": {},
   "outputs": [
    {
     "data": {
      "text/plain": [
       "<selenium.webdriver.remote.webelement.WebElement (session=\"ff829f35366c05cf6204bf2b72adce45\", element=\"99415b8a-bf51-45e6-86a4-edf6e616d5fb\")>"
      ]
     },
     "execution_count": 244,
     "metadata": {},
     "output_type": "execute_result"
    }
   ],
   "source": [
    "search_job = driver.find_element_by_xpath('/html/body/div/div[2]/div[3]/div/div/div[1]/div/div')\n",
    "search_job"
   ]
  },
  {
   "cell_type": "code",
   "execution_count": 245,
   "id": "b07d02d2",
   "metadata": {},
   "outputs": [
    {
     "ename": "ElementNotInteractableException",
     "evalue": "Message: element not interactable\n  (Session info: chrome=99.0.4844.74)\nStacktrace:\nBacktrace:\n\tOrdinal0 [0x00879943+2595139]\n\tOrdinal0 [0x0080C9F1+2148849]\n\tOrdinal0 [0x007043F0+1065968]\n\tOrdinal0 [0x0072C4D3+1230035]\n\tOrdinal0 [0x0072BB8B+1227659]\n\tOrdinal0 [0x0074B9EC+1358316]\n\tOrdinal0 [0x00727474+1209460]\n\tOrdinal0 [0x0074BC04+1358852]\n\tOrdinal0 [0x0075BAF2+1424114]\n\tOrdinal0 [0x0074B806+1357830]\n\tOrdinal0 [0x00726086+1204358]\n\tOrdinal0 [0x00726F96+1208214]\n\tGetHandleVerifier [0x00A1B232+1658114]\n\tGetHandleVerifier [0x00AD312C+2411516]\n\tGetHandleVerifier [0x0090F261+560433]\n\tGetHandleVerifier [0x0090E366+556598]\n\tOrdinal0 [0x0081286B+2173035]\n\tOrdinal0 [0x008175F8+2192888]\n\tOrdinal0 [0x008176E5+2193125]\n\tOrdinal0 [0x008211FC+2232828]\n\tBaseThreadInitThunk [0x75246739+25]\n\tRtlGetFullPathName_UEx [0x770C8E7F+1215]\n\tRtlGetFullPathName_UEx [0x770C8E4D+1165]\n",
     "output_type": "error",
     "traceback": [
      "\u001b[1;31m---------------------------------------------------------------------------\u001b[0m",
      "\u001b[1;31mElementNotInteractableException\u001b[0m           Traceback (most recent call last)",
      "\u001b[1;32m~\\AppData\\Local\\Temp/ipykernel_10836/2802147919.py\u001b[0m in \u001b[0;36m<module>\u001b[1;34m\u001b[0m\n\u001b[1;32m----> 1\u001b[1;33m \u001b[0msearch_job\u001b[0m\u001b[1;33m.\u001b[0m\u001b[0msend_keys\u001b[0m\u001b[1;33m(\u001b[0m\u001b[1;34m'data scientist'\u001b[0m\u001b[1;33m)\u001b[0m\u001b[1;33m\u001b[0m\u001b[1;33m\u001b[0m\u001b[0m\n\u001b[0m",
      "\u001b[1;32m~\\anaconda3\\lib\\site-packages\\selenium\\webdriver\\remote\\webelement.py\u001b[0m in \u001b[0;36msend_keys\u001b[1;34m(self, *value)\u001b[0m\n\u001b[0;32m    538\u001b[0m                 \u001b[0mvalue\u001b[0m \u001b[1;33m=\u001b[0m \u001b[1;34m'\\n'\u001b[0m\u001b[1;33m.\u001b[0m\u001b[0mjoin\u001b[0m\u001b[1;33m(\u001b[0m\u001b[0mremote_files\u001b[0m\u001b[1;33m)\u001b[0m\u001b[1;33m\u001b[0m\u001b[1;33m\u001b[0m\u001b[0m\n\u001b[0;32m    539\u001b[0m \u001b[1;33m\u001b[0m\u001b[0m\n\u001b[1;32m--> 540\u001b[1;33m         self._execute(Command.SEND_KEYS_TO_ELEMENT,\n\u001b[0m\u001b[0;32m    541\u001b[0m                       {'text': \"\".join(keys_to_typing(value)),\n\u001b[0;32m    542\u001b[0m                        'value': keys_to_typing(value)})\n",
      "\u001b[1;32m~\\anaconda3\\lib\\site-packages\\selenium\\webdriver\\remote\\webelement.py\u001b[0m in \u001b[0;36m_execute\u001b[1;34m(self, command, params)\u001b[0m\n\u001b[0;32m    708\u001b[0m             \u001b[0mparams\u001b[0m \u001b[1;33m=\u001b[0m \u001b[1;33m{\u001b[0m\u001b[1;33m}\u001b[0m\u001b[1;33m\u001b[0m\u001b[1;33m\u001b[0m\u001b[0m\n\u001b[0;32m    709\u001b[0m         \u001b[0mparams\u001b[0m\u001b[1;33m[\u001b[0m\u001b[1;34m'id'\u001b[0m\u001b[1;33m]\u001b[0m \u001b[1;33m=\u001b[0m \u001b[0mself\u001b[0m\u001b[1;33m.\u001b[0m\u001b[0m_id\u001b[0m\u001b[1;33m\u001b[0m\u001b[1;33m\u001b[0m\u001b[0m\n\u001b[1;32m--> 710\u001b[1;33m         \u001b[1;32mreturn\u001b[0m \u001b[0mself\u001b[0m\u001b[1;33m.\u001b[0m\u001b[0m_parent\u001b[0m\u001b[1;33m.\u001b[0m\u001b[0mexecute\u001b[0m\u001b[1;33m(\u001b[0m\u001b[0mcommand\u001b[0m\u001b[1;33m,\u001b[0m \u001b[0mparams\u001b[0m\u001b[1;33m)\u001b[0m\u001b[1;33m\u001b[0m\u001b[1;33m\u001b[0m\u001b[0m\n\u001b[0m\u001b[0;32m    711\u001b[0m \u001b[1;33m\u001b[0m\u001b[0m\n\u001b[0;32m    712\u001b[0m     \u001b[1;32mdef\u001b[0m \u001b[0mfind_element\u001b[0m\u001b[1;33m(\u001b[0m\u001b[0mself\u001b[0m\u001b[1;33m,\u001b[0m \u001b[0mby\u001b[0m\u001b[1;33m=\u001b[0m\u001b[0mBy\u001b[0m\u001b[1;33m.\u001b[0m\u001b[0mID\u001b[0m\u001b[1;33m,\u001b[0m \u001b[0mvalue\u001b[0m\u001b[1;33m=\u001b[0m\u001b[1;32mNone\u001b[0m\u001b[1;33m)\u001b[0m\u001b[1;33m:\u001b[0m\u001b[1;33m\u001b[0m\u001b[1;33m\u001b[0m\u001b[0m\n",
      "\u001b[1;32m~\\anaconda3\\lib\\site-packages\\selenium\\webdriver\\remote\\webdriver.py\u001b[0m in \u001b[0;36mexecute\u001b[1;34m(self, driver_command, params)\u001b[0m\n\u001b[0;32m    423\u001b[0m         \u001b[0mresponse\u001b[0m \u001b[1;33m=\u001b[0m \u001b[0mself\u001b[0m\u001b[1;33m.\u001b[0m\u001b[0mcommand_executor\u001b[0m\u001b[1;33m.\u001b[0m\u001b[0mexecute\u001b[0m\u001b[1;33m(\u001b[0m\u001b[0mdriver_command\u001b[0m\u001b[1;33m,\u001b[0m \u001b[0mparams\u001b[0m\u001b[1;33m)\u001b[0m\u001b[1;33m\u001b[0m\u001b[1;33m\u001b[0m\u001b[0m\n\u001b[0;32m    424\u001b[0m         \u001b[1;32mif\u001b[0m \u001b[0mresponse\u001b[0m\u001b[1;33m:\u001b[0m\u001b[1;33m\u001b[0m\u001b[1;33m\u001b[0m\u001b[0m\n\u001b[1;32m--> 425\u001b[1;33m             \u001b[0mself\u001b[0m\u001b[1;33m.\u001b[0m\u001b[0merror_handler\u001b[0m\u001b[1;33m.\u001b[0m\u001b[0mcheck_response\u001b[0m\u001b[1;33m(\u001b[0m\u001b[0mresponse\u001b[0m\u001b[1;33m)\u001b[0m\u001b[1;33m\u001b[0m\u001b[1;33m\u001b[0m\u001b[0m\n\u001b[0m\u001b[0;32m    426\u001b[0m             response['value'] = self._unwrap_value(\n\u001b[0;32m    427\u001b[0m                 response.get('value', None))\n",
      "\u001b[1;32m~\\anaconda3\\lib\\site-packages\\selenium\\webdriver\\remote\\errorhandler.py\u001b[0m in \u001b[0;36mcheck_response\u001b[1;34m(self, response)\u001b[0m\n\u001b[0;32m    245\u001b[0m                 \u001b[0malert_text\u001b[0m \u001b[1;33m=\u001b[0m \u001b[0mvalue\u001b[0m\u001b[1;33m[\u001b[0m\u001b[1;34m'alert'\u001b[0m\u001b[1;33m]\u001b[0m\u001b[1;33m.\u001b[0m\u001b[0mget\u001b[0m\u001b[1;33m(\u001b[0m\u001b[1;34m'text'\u001b[0m\u001b[1;33m)\u001b[0m\u001b[1;33m\u001b[0m\u001b[1;33m\u001b[0m\u001b[0m\n\u001b[0;32m    246\u001b[0m             \u001b[1;32mraise\u001b[0m \u001b[0mexception_class\u001b[0m\u001b[1;33m(\u001b[0m\u001b[0mmessage\u001b[0m\u001b[1;33m,\u001b[0m \u001b[0mscreen\u001b[0m\u001b[1;33m,\u001b[0m \u001b[0mstacktrace\u001b[0m\u001b[1;33m,\u001b[0m \u001b[0malert_text\u001b[0m\u001b[1;33m)\u001b[0m  \u001b[1;31m# type: ignore[call-arg]  # mypy is not smart enough here\u001b[0m\u001b[1;33m\u001b[0m\u001b[1;33m\u001b[0m\u001b[0m\n\u001b[1;32m--> 247\u001b[1;33m         \u001b[1;32mraise\u001b[0m \u001b[0mexception_class\u001b[0m\u001b[1;33m(\u001b[0m\u001b[0mmessage\u001b[0m\u001b[1;33m,\u001b[0m \u001b[0mscreen\u001b[0m\u001b[1;33m,\u001b[0m \u001b[0mstacktrace\u001b[0m\u001b[1;33m)\u001b[0m\u001b[1;33m\u001b[0m\u001b[1;33m\u001b[0m\u001b[0m\n\u001b[0m\u001b[0;32m    248\u001b[0m \u001b[1;33m\u001b[0m\u001b[0m\n\u001b[0;32m    249\u001b[0m     \u001b[1;32mdef\u001b[0m \u001b[0m_value_or_default\u001b[0m\u001b[1;33m(\u001b[0m\u001b[0mself\u001b[0m\u001b[1;33m,\u001b[0m \u001b[0mobj\u001b[0m\u001b[1;33m:\u001b[0m \u001b[0mMapping\u001b[0m\u001b[1;33m[\u001b[0m\u001b[0m_KT\u001b[0m\u001b[1;33m,\u001b[0m \u001b[0m_VT\u001b[0m\u001b[1;33m]\u001b[0m\u001b[1;33m,\u001b[0m \u001b[0mkey\u001b[0m\u001b[1;33m:\u001b[0m \u001b[0m_KT\u001b[0m\u001b[1;33m,\u001b[0m \u001b[0mdefault\u001b[0m\u001b[1;33m:\u001b[0m \u001b[0m_VT\u001b[0m\u001b[1;33m)\u001b[0m \u001b[1;33m->\u001b[0m \u001b[0m_VT\u001b[0m\u001b[1;33m:\u001b[0m\u001b[1;33m\u001b[0m\u001b[1;33m\u001b[0m\u001b[0m\n",
      "\u001b[1;31mElementNotInteractableException\u001b[0m: Message: element not interactable\n  (Session info: chrome=99.0.4844.74)\nStacktrace:\nBacktrace:\n\tOrdinal0 [0x00879943+2595139]\n\tOrdinal0 [0x0080C9F1+2148849]\n\tOrdinal0 [0x007043F0+1065968]\n\tOrdinal0 [0x0072C4D3+1230035]\n\tOrdinal0 [0x0072BB8B+1227659]\n\tOrdinal0 [0x0074B9EC+1358316]\n\tOrdinal0 [0x00727474+1209460]\n\tOrdinal0 [0x0074BC04+1358852]\n\tOrdinal0 [0x0075BAF2+1424114]\n\tOrdinal0 [0x0074B806+1357830]\n\tOrdinal0 [0x00726086+1204358]\n\tOrdinal0 [0x00726F96+1208214]\n\tGetHandleVerifier [0x00A1B232+1658114]\n\tGetHandleVerifier [0x00AD312C+2411516]\n\tGetHandleVerifier [0x0090F261+560433]\n\tGetHandleVerifier [0x0090E366+556598]\n\tOrdinal0 [0x0081286B+2173035]\n\tOrdinal0 [0x008175F8+2192888]\n\tOrdinal0 [0x008176E5+2193125]\n\tOrdinal0 [0x008211FC+2232828]\n\tBaseThreadInitThunk [0x75246739+25]\n\tRtlGetFullPathName_UEx [0x770C8E7F+1215]\n\tRtlGetFullPathName_UEx [0x770C8E4D+1165]\n"
     ]
    }
   ],
   "source": [
    "search_job.send_keys('data scientist')"
   ]
  },
  {
   "cell_type": "code",
   "execution_count": 239,
   "id": "6cafa8e1",
   "metadata": {},
   "outputs": [
    {
     "data": {
      "text/plain": [
       "<selenium.webdriver.remote.webelement.WebElement (session=\"ff829f35366c05cf6204bf2b72adce45\", element=\"83728710-60e7-4dbf-8619-fd730df46c7d\")>"
      ]
     },
     "execution_count": 239,
     "metadata": {},
     "output_type": "execute_result"
    }
   ],
   "source": [
    "search_locn = driver.find_element_by_xpath('/html/body/div/div[2]/div[3]/div/div/div[3]/div/div/div/input')\n",
    "search_locn"
   ]
  },
  {
   "cell_type": "code",
   "execution_count": 212,
   "id": "fbed34f2",
   "metadata": {},
   "outputs": [],
   "source": [
    "search_job.send_keys('Delhi/NCR')"
   ]
  },
  {
   "cell_type": "code",
   "execution_count": 247,
   "id": "37c3bd5d",
   "metadata": {},
   "outputs": [
    {
     "data": {
      "text/plain": [
       "<selenium.webdriver.remote.webelement.WebElement (session=\"ff829f35366c05cf6204bf2b72adce45\", element=\"30ebe2b7-2c02-4b77-8c24-cdeb0aa4ebcb\")>"
      ]
     },
     "execution_count": 247,
     "metadata": {},
     "output_type": "execute_result"
    }
   ],
   "source": [
    "search_btn = driver.find_element_by_xpath('/html/body/div/div[2]/div[3]/div/div/div[6]')\n",
    "search_btn"
   ]
  },
  {
   "cell_type": "code",
   "execution_count": 248,
   "id": "ee1ee4d9",
   "metadata": {},
   "outputs": [],
   "source": [
    "search_btn.click() "
   ]
  },
  {
   "cell_type": "code",
   "execution_count": 249,
   "id": "73893410",
   "metadata": {},
   "outputs": [
    {
     "data": {
      "text/plain": [
       "0"
      ]
     },
     "execution_count": 249,
     "metadata": {},
     "output_type": "execute_result"
    }
   ],
   "source": [
    "# scraping title\n",
    "job_title1 = driver.find_elements_by_xpath('//a [@class=\"title fw500 ellipsis\"]')\n",
    "\n",
    "title1 = []\n",
    "\n",
    "for i in job_title1:\n",
    "    title1.append(i.text)\n",
    "title1[:10]\n",
    "len(title1)\n"
   ]
  },
  {
   "cell_type": "code",
   "execution_count": 250,
   "id": "6630070e",
   "metadata": {},
   "outputs": [
    {
     "data": {
      "text/plain": [
       "0"
      ]
     },
     "execution_count": 250,
     "metadata": {},
     "output_type": "execute_result"
    }
   ],
   "source": [
    "# scraping location\n",
    "\n",
    "job_location1 = driver.find_elements_by_xpath('//li [@class=\"fleft grey-text br2 placeHolderLi location\"]')\n",
    "\n",
    "\n",
    "location1 = []\n",
    "\n",
    "for i in job_location1:\n",
    "    location1.append(i.text)\n",
    "location1[:10]\n",
    "len(location1)\n"
   ]
  },
  {
   "cell_type": "code",
   "execution_count": 251,
   "id": "0efc0da9",
   "metadata": {},
   "outputs": [
    {
     "data": {
      "text/plain": [
       "0"
      ]
     },
     "execution_count": 251,
     "metadata": {},
     "output_type": "execute_result"
    }
   ],
   "source": [
    "# scraping company\n",
    "\n",
    "job_company1 = driver.find_elements_by_xpath('//a [@class=\"subTitle ellipsis fleft\"]')\n",
    "\n",
    "company1 = []\n",
    "\n",
    "for i in job_company1:\n",
    "    company1.append(i.text)\n",
    "company1[:10]\n",
    "len(company1)"
   ]
  },
  {
   "cell_type": "code",
   "execution_count": 252,
   "id": "463188b6",
   "metadata": {},
   "outputs": [
    {
     "data": {
      "text/plain": [
       "0"
      ]
     },
     "execution_count": 252,
     "metadata": {},
     "output_type": "execute_result"
    }
   ],
   "source": [
    "# scraping experience\n",
    "\n",
    "\n",
    "job_experience1 = driver.find_elements_by_xpath('//li [@class=\"fleft grey-text br2 placeHolderLi experience\"]')\n",
    "\n",
    "experience1 = []\n",
    "for i in job_experience1:\n",
    "    experience1.append(i.text)\n",
    "experience1[:10]\n",
    "len(experience1)"
   ]
  },
  {
   "cell_type": "code",
   "execution_count": 254,
   "id": "5dacbb58",
   "metadata": {},
   "outputs": [
    {
     "data": {
      "text/html": [
       "<div>\n",
       "<style scoped>\n",
       "    .dataframe tbody tr th:only-of-type {\n",
       "        vertical-align: middle;\n",
       "    }\n",
       "\n",
       "    .dataframe tbody tr th {\n",
       "        vertical-align: top;\n",
       "    }\n",
       "\n",
       "    .dataframe thead th {\n",
       "        text-align: right;\n",
       "    }\n",
       "</style>\n",
       "<table border=\"1\" class=\"dataframe\">\n",
       "  <thead>\n",
       "    <tr style=\"text-align: right;\">\n",
       "      <th></th>\n",
       "      <th>job_title1</th>\n",
       "      <th>job-location1</th>\n",
       "      <th>job_company1</th>\n",
       "      <th>job_experience1</th>\n",
       "    </tr>\n",
       "  </thead>\n",
       "  <tbody>\n",
       "  </tbody>\n",
       "</table>\n",
       "</div>"
      ],
      "text/plain": [
       "Empty DataFrame\n",
       "Columns: [job_title1, job-location1, job_company1, job_experience1]\n",
       "Index: []"
      ]
     },
     "execution_count": 254,
     "metadata": {},
     "output_type": "execute_result"
    }
   ],
   "source": [
    "# final dataframe\n",
    "\n",
    "\n",
    "jobs = pd.DataFrame()\n",
    "jobs['job_title1'] = title1[:10]\n",
    "jobs['job-location1'] = location1[:10]\n",
    "jobs['job_company1'] = company1[:10]\n",
    "jobs['job_experience1'] = experience1[:10]\n",
    "jobs\n"
   ]
  },
  {
   "cell_type": "markdown",
   "id": "5f3342b4",
   "metadata": {},
   "source": [
    "# no...4"
   ]
  },
  {
   "cell_type": "code",
   "execution_count": 255,
   "id": "727ca38e",
   "metadata": {},
   "outputs": [],
   "source": [
    "driver= webdriver.Chrome(r'C:/Users/navin/chromedriver.exe')"
   ]
  },
  {
   "cell_type": "code",
   "execution_count": 256,
   "id": "10586eaf",
   "metadata": {},
   "outputs": [],
   "source": [
    "driver= webdriver.Chrome(\"chromedriver.exe\")"
   ]
  },
  {
   "cell_type": "code",
   "execution_count": 257,
   "id": "139e2f0d",
   "metadata": {},
   "outputs": [],
   "source": [
    "\n",
    "# scraping data from flipcart\n",
    "url = 'https://www.flipkart.com/'\n",
    "driver.get(url)\n",
    "    "
   ]
  },
  {
   "cell_type": "code",
   "execution_count": null,
   "id": "4094ec01",
   "metadata": {},
   "outputs": [],
   "source": []
  },
  {
   "cell_type": "code",
   "execution_count": 259,
   "id": "484f0786",
   "metadata": {},
   "outputs": [
    {
     "data": {
      "text/plain": [
       "<selenium.webdriver.remote.webelement.WebElement (session=\"1851ba697472d76af1f7f234b413f08c\", element=\"44513211-7b77-4b67-babd-1c0d913e9c35\")>"
      ]
     },
     "execution_count": 259,
     "metadata": {},
     "output_type": "execute_result"
    }
   ],
   "source": [
    "search_sunglasses =  driver.find_element_by_xpath('/html/body/div/div/div[1]/div[1]/div[2]/div[2]/form/div/div/input')\n",
    "search_sunglasses"
   ]
  },
  {
   "cell_type": "code",
   "execution_count": 260,
   "id": "66a1292d",
   "metadata": {},
   "outputs": [],
   "source": [
    "search_sunglasses.send_keys('Sunglasses')"
   ]
  },
  {
   "cell_type": "code",
   "execution_count": 261,
   "id": "8c35125b",
   "metadata": {},
   "outputs": [
    {
     "data": {
      "text/plain": [
       "<selenium.webdriver.remote.webelement.WebElement (session=\"1851ba697472d76af1f7f234b413f08c\", element=\"cff6cdf0-d482-422e-a796-968d097c4b46\")>"
      ]
     },
     "execution_count": 261,
     "metadata": {},
     "output_type": "execute_result"
    }
   ],
   "source": [
    "search_btn = driver.find_element_by_xpath('/html/body/div[1]/div/div[1]/div[1]/div[2]/div[2]/form/div/button')\n",
    "search_btn"
   ]
  },
  {
   "cell_type": "code",
   "execution_count": 265,
   "id": "4f092dba",
   "metadata": {},
   "outputs": [],
   "source": [
    "search_btn.click()"
   ]
  },
  {
   "cell_type": "code",
   "execution_count": 266,
   "id": "51b1781a",
   "metadata": {},
   "outputs": [
    {
     "name": "stdout",
     "output_type": "stream",
     "text": [
      "scraping page 1\n",
      "scraping page 2\n",
      "scraping page 3\n"
     ]
    }
   ],
   "source": [
    "products = []\n",
    "for i in range(3):\n",
    "    print('scraping page',i+1)    \n",
    "    product = driver.find_elements_by_xpath('//div [@class=\"_2WkVRV\"]')\n",
    "    for p in product:\n",
    "        products.append(p.text)\n",
    "    next_button = driver.find_elements_by_xpath('//a [@class=\"_1LKTO3\"]') \n",
    "    \n"
   ]
  },
  {
   "cell_type": "code",
   "execution_count": null,
   "id": "ddbce336",
   "metadata": {},
   "outputs": [],
   "source": [
    "len(products)"
   ]
  },
  {
   "cell_type": "code",
   "execution_count": 267,
   "id": "ca142386",
   "metadata": {},
   "outputs": [
    {
     "name": "stdout",
     "output_type": "stream",
     "text": [
      "scraping page 1\n",
      "scraping page 2\n",
      "scraping page 3\n"
     ]
    }
   ],
   "source": [
    "discriptions = []\n",
    "for i in range(3):\n",
    "    print('scraping page',i+1)\n",
    "    discription = driver.find_elements_by_xpath('//div [@class=\"_2B099V\"]')\n",
    "    for p in discription:\n",
    "        discriptions.append(p.text)\n",
    "    next_button = driver.find_elements_by_xpath('//a [@class=\"IRpwTa\"]') \n",
    "    \n",
    "    "
   ]
  },
  {
   "cell_type": "code",
   "execution_count": null,
   "id": "c72a4fd0",
   "metadata": {},
   "outputs": [],
   "source": [
    "len(discriptions)"
   ]
  },
  {
   "cell_type": "code",
   "execution_count": 268,
   "id": "82b23004",
   "metadata": {},
   "outputs": [
    {
     "name": "stdout",
     "output_type": "stream",
     "text": [
      "scraping page 1\n",
      "scraping page 2\n",
      "scraping page 3\n"
     ]
    }
   ],
   "source": [
    "prices = []\n",
    "for i in range(3):\n",
    "    print('scraping page',i+1)\n",
    "    price = driver.find_elements_by_xpath('//div [@class=\"_30jeq3\"]')\n",
    "    for p in price:\n",
    "        prices.append(p.text)\n",
    "    next_button = driver.find_elements_by_xpath('//a [@class=\"IRpwTa\"]')\n",
    "    \n",
    "    \n",
    "    \n",
    "    "
   ]
  },
  {
   "cell_type": "code",
   "execution_count": 269,
   "id": "1c340dfc",
   "metadata": {},
   "outputs": [
    {
     "data": {
      "text/plain": [
       "120"
      ]
     },
     "execution_count": 269,
     "metadata": {},
     "output_type": "execute_result"
    }
   ],
   "source": [
    "len(prices)"
   ]
  },
  {
   "cell_type": "code",
   "execution_count": 270,
   "id": "d19c2be0",
   "metadata": {
    "scrolled": true
   },
   "outputs": [
    {
     "data": {
      "text/html": [
       "<div>\n",
       "<style scoped>\n",
       "    .dataframe tbody tr th:only-of-type {\n",
       "        vertical-align: middle;\n",
       "    }\n",
       "\n",
       "    .dataframe tbody tr th {\n",
       "        vertical-align: top;\n",
       "    }\n",
       "\n",
       "    .dataframe thead th {\n",
       "        text-align: right;\n",
       "    }\n",
       "</style>\n",
       "<table border=\"1\" class=\"dataframe\">\n",
       "  <thead>\n",
       "    <tr style=\"text-align: right;\">\n",
       "      <th></th>\n",
       "      <th>product</th>\n",
       "      <th>discription</th>\n",
       "      <th>price</th>\n",
       "    </tr>\n",
       "  </thead>\n",
       "  <tbody>\n",
       "    <tr>\n",
       "      <th>0</th>\n",
       "      <td>VINCENT CHASE</td>\n",
       "      <td>VINCENT CHASE\\nUV Protection Wayfarer Sunglass...</td>\n",
       "      <td>₹899</td>\n",
       "    </tr>\n",
       "    <tr>\n",
       "      <th>1</th>\n",
       "      <td>VINCENT CHASE</td>\n",
       "      <td>VINCENT CHASE\\nby Lenskart Polarized, UV Prote...</td>\n",
       "      <td>₹1,294</td>\n",
       "    </tr>\n",
       "    <tr>\n",
       "      <th>2</th>\n",
       "      <td>SRPM</td>\n",
       "      <td>SRPM\\nUV Protection Wayfarer Sunglasses (50)\\n...</td>\n",
       "      <td>₹148</td>\n",
       "    </tr>\n",
       "    <tr>\n",
       "      <th>3</th>\n",
       "      <td>SUNBEE</td>\n",
       "      <td>SUNBEE\\nUV Protection, Polarized Wayfarer Sung...</td>\n",
       "      <td>₹203</td>\n",
       "    </tr>\n",
       "    <tr>\n",
       "      <th>4</th>\n",
       "      <td>Elligator</td>\n",
       "      <td>Elligator\\nUV Protection Round Sunglasses (54)...</td>\n",
       "      <td>₹208</td>\n",
       "    </tr>\n",
       "    <tr>\n",
       "      <th>...</th>\n",
       "      <td>...</td>\n",
       "      <td>...</td>\n",
       "      <td>...</td>\n",
       "    </tr>\n",
       "    <tr>\n",
       "      <th>95</th>\n",
       "      <td>VINCENT CHASE</td>\n",
       "      <td>VINCENT CHASE\\nby Lenskart UV Protection Aviat...</td>\n",
       "      <td>₹849</td>\n",
       "    </tr>\n",
       "    <tr>\n",
       "      <th>96</th>\n",
       "      <td>GANSTA</td>\n",
       "      <td>GANSTA\\nUV Protection, Riding Glasses Wayfarer...</td>\n",
       "      <td>₹148</td>\n",
       "    </tr>\n",
       "    <tr>\n",
       "      <th>97</th>\n",
       "      <td>kingsunglasses</td>\n",
       "      <td>kingsunglasses\\nMirrored, UV Protection Wayfar...</td>\n",
       "      <td>₹189</td>\n",
       "    </tr>\n",
       "    <tr>\n",
       "      <th>98</th>\n",
       "      <td>PHENOMENAL</td>\n",
       "      <td>PHENOMENAL\\nUV Protection Retro Square Sunglas...</td>\n",
       "      <td>₹239</td>\n",
       "    </tr>\n",
       "    <tr>\n",
       "      <th>99</th>\n",
       "      <td>VINCENT CHASE</td>\n",
       "      <td>VINCENT CHASE\\nUV Protection Wayfarer Sunglass...</td>\n",
       "      <td>₹749</td>\n",
       "    </tr>\n",
       "  </tbody>\n",
       "</table>\n",
       "<p>100 rows × 3 columns</p>\n",
       "</div>"
      ],
      "text/plain": [
       "         product                                         discription    price\n",
       "0    VINCENT CHASE  VINCENT CHASE\\nUV Protection Wayfarer Sunglass...    ₹899\n",
       "1    VINCENT CHASE  VINCENT CHASE\\nby Lenskart Polarized, UV Prote...  ₹1,294\n",
       "2             SRPM  SRPM\\nUV Protection Wayfarer Sunglasses (50)\\n...    ₹148\n",
       "3           SUNBEE  SUNBEE\\nUV Protection, Polarized Wayfarer Sung...    ₹203\n",
       "4        Elligator  Elligator\\nUV Protection Round Sunglasses (54)...    ₹208\n",
       "..             ...                                                ...     ...\n",
       "95   VINCENT CHASE  VINCENT CHASE\\nby Lenskart UV Protection Aviat...    ₹849\n",
       "96          GANSTA  GANSTA\\nUV Protection, Riding Glasses Wayfarer...    ₹148\n",
       "97  kingsunglasses  kingsunglasses\\nMirrored, UV Protection Wayfar...    ₹189\n",
       "98      PHENOMENAL  PHENOMENAL\\nUV Protection Retro Square Sunglas...    ₹239\n",
       "99   VINCENT CHASE  VINCENT CHASE\\nUV Protection Wayfarer Sunglass...    ₹749\n",
       "\n",
       "[100 rows x 3 columns]"
      ]
     },
     "execution_count": 270,
     "metadata": {},
     "output_type": "execute_result"
    }
   ],
   "source": [
    "# final dataframe\n",
    "\n",
    "glasses = pd.DataFrame()\n",
    "glasses['product  '] = products[ :100]\n",
    "glasses['discription '] = discriptions[:100]\n",
    "glasses['price'] = prices[:100]\n",
    "glasses"
   ]
  },
  {
   "cell_type": "markdown",
   "id": "e633af5c",
   "metadata": {},
   "source": [
    "# n0...5"
   ]
  },
  {
   "cell_type": "code",
   "execution_count": 272,
   "id": "e0888c0a",
   "metadata": {},
   "outputs": [],
   "source": [
    "driver= webdriver.Chrome(r'C:/Users/navin/chromedriver.exe')"
   ]
  },
  {
   "cell_type": "code",
   "execution_count": 273,
   "id": "05562bca",
   "metadata": {},
   "outputs": [],
   "source": [
    "driver= webdriver.Chrome(\"chromedriver.exe\")"
   ]
  },
  {
   "cell_type": "code",
   "execution_count": 278,
   "id": "41436a11",
   "metadata": {},
   "outputs": [],
   "source": [
    "url = 'https://www.flipkart.com/apple-iphone-11-black-64-gb-includes- earpods-power-'\n",
    "\n",
    "driver.get(url)"
   ]
  },
  {
   "cell_type": "code",
   "execution_count": 286,
   "id": "2fd67b18",
   "metadata": {},
   "outputs": [
    {
     "data": {
      "text/plain": [
       "<selenium.webdriver.remote.webelement.WebElement (session=\"8878bb687602e5acd0d8de1942beba0a\", element=\"4f62ffa5-d94b-43c2-9cff-29c9aabc8119\")>"
      ]
     },
     "execution_count": 286,
     "metadata": {},
     "output_type": "execute_result"
    }
   ],
   "source": [
    "search_iphones = driver.find_element_by_class_name(\"_3OO5Xc\")\n",
    "\n",
    "search_iphones"
   ]
  },
  {
   "cell_type": "code",
   "execution_count": 287,
   "id": "b80ff068",
   "metadata": {},
   "outputs": [
    {
     "data": {
      "text/plain": [
       "<selenium.webdriver.remote.webelement.WebElement (session=\"8878bb687602e5acd0d8de1942beba0a\", element=\"c1d61508-d4ef-4ae3-bff2-ef42278f10ba\")>"
      ]
     },
     "execution_count": 287,
     "metadata": {},
     "output_type": "execute_result"
    }
   ],
   "source": [
    "search_iphones =  driver.find_element_by_xpath('/html/body/div[1]/div/div[1]/div[1]/div[2]/div[2]/form/div/div/input')\n",
    "\n",
    "search_iphones"
   ]
  },
  {
   "cell_type": "code",
   "execution_count": 288,
   "id": "3a9c023c",
   "metadata": {},
   "outputs": [],
   "source": [
    "search_iphones.send_keys('iphones 11')"
   ]
  },
  {
   "cell_type": "code",
   "execution_count": 289,
   "id": "bb0af24d",
   "metadata": {},
   "outputs": [
    {
     "data": {
      "text/plain": [
       "<selenium.webdriver.remote.webelement.WebElement (session=\"8878bb687602e5acd0d8de1942beba0a\", element=\"29221856-98e6-4da0-a5dc-8c263e212b2d\")>"
      ]
     },
     "execution_count": 289,
     "metadata": {},
     "output_type": "execute_result"
    }
   ],
   "source": [
    "search_btn = driver.find_element_by_xpath('/html/body/div[1]/div/div[1]/div[1]/div[2]/div[2]/form/div/button')\n",
    "\n",
    "search_btn"
   ]
  },
  {
   "cell_type": "code",
   "execution_count": 290,
   "id": "8c378a87",
   "metadata": {},
   "outputs": [],
   "source": [
    "search_btn.click()"
   ]
  },
  {
   "cell_type": "code",
   "execution_count": 291,
   "id": "88ed1501",
   "metadata": {},
   "outputs": [
    {
     "name": "stdout",
     "output_type": "stream",
     "text": [
      "scraping pages 1\n",
      "scraping pages 2\n",
      "scraping pages 3\n",
      "scraping pages 4\n",
      "scraping pages 5\n"
     ]
    }
   ],
   "source": [
    "ratings = []\n",
    "for i in range(5):\n",
    "    print('scraping pages',i+1)\n",
    "    rating = driver.find_elements_by_xpath('//div [@class=\"_3LWZlK\"]')\n",
    "\n",
    "    for p in rating:\n",
    "        ratings.append(p.text)\n",
    "    next_btn = driver.find_elements_by_xpath('//a [@class=\"_1LKTO3\"]')"
   ]
  },
  {
   "cell_type": "code",
   "execution_count": 292,
   "id": "151354fc",
   "metadata": {},
   "outputs": [
    {
     "data": {
      "text/plain": [
       "135"
      ]
     },
     "execution_count": 292,
     "metadata": {},
     "output_type": "execute_result"
    }
   ],
   "source": [
    "len(ratings)"
   ]
  },
  {
   "cell_type": "code",
   "execution_count": 299,
   "id": "5148219f",
   "metadata": {},
   "outputs": [
    {
     "name": "stdout",
     "output_type": "stream",
     "text": [
      "scraping pages 1\n",
      "scraping pages 2\n",
      "scraping pages 3\n",
      "scraping pages 4\n",
      "scraping pages 5\n"
     ]
    }
   ],
   "source": [
    "reviews1 = []\n",
    "for i in range(5):\n",
    "    print('scraping pages',i+1)\n",
    "    review1 = driver.find_elements_by_xpath('//p[@class=\"_2-N8zT\"]')\n",
    "\n",
    "    for p in review1:\n",
    "        reviews1.append(p.text)\n",
    "    next_btn = driver.find_elements_by_xpath('//a [@class=\"_1LKTO3\"]')   \n",
    "        \n",
    "        \n",
    "        \n",
    "    \n"
   ]
  },
  {
   "cell_type": "code",
   "execution_count": 298,
   "id": "751528d1",
   "metadata": {},
   "outputs": [
    {
     "data": {
      "text/plain": [
       "30"
      ]
     },
     "execution_count": 298,
     "metadata": {},
     "output_type": "execute_result"
    }
   ],
   "source": [
    "len(reviews1)"
   ]
  },
  {
   "cell_type": "code",
   "execution_count": 300,
   "id": "75133030",
   "metadata": {},
   "outputs": [
    {
     "name": "stdout",
     "output_type": "stream",
     "text": [
      "scraping pages 1\n",
      "scraping pages 2\n",
      "scraping pages 3\n",
      "scraping pages 4\n",
      "scraping pages 5\n"
     ]
    }
   ],
   "source": [
    "reviews2 = []\n",
    "for i in range(5):\n",
    "    print('scraping pages',i+1)\n",
    "    review2 = driver.find_elements_by_xpath('//div [@class=\"t-ZTKy\"]')\n",
    "\n",
    "    for p in review2:\n",
    "        reviews2.append(p.text)\n",
    "    next_btn = driver.find_elements_by_xpath('//a [@class=\"_1LKTO3\"]')   \n",
    "        \n",
    "        \n",
    "      "
   ]
  },
  {
   "cell_type": "code",
   "execution_count": 301,
   "id": "2180a2f1",
   "metadata": {},
   "outputs": [
    {
     "data": {
      "text/plain": [
       "30"
      ]
     },
     "execution_count": 301,
     "metadata": {},
     "output_type": "execute_result"
    }
   ],
   "source": [
    "len(reviews2)"
   ]
  },
  {
   "cell_type": "code",
   "execution_count": null,
   "id": "79e964d2",
   "metadata": {},
   "outputs": [],
   "source": []
  },
  {
   "cell_type": "markdown",
   "id": "1580a08d",
   "metadata": {},
   "source": [
    "# no...6"
   ]
  },
  {
   "cell_type": "code",
   "execution_count": 303,
   "id": "89912b46",
   "metadata": {},
   "outputs": [],
   "source": [
    " driver = webdriver.Chrome(r'C:/Users/navin/chromedriver.exe')"
   ]
  },
  {
   "cell_type": "code",
   "execution_count": 304,
   "id": "6c64003b",
   "metadata": {},
   "outputs": [],
   "source": [
    "driver= webdriver.Chrome(\"chromedriver.exe\")"
   ]
  },
  {
   "cell_type": "code",
   "execution_count": 305,
   "id": "3bdc13ea",
   "metadata": {},
   "outputs": [],
   "source": [
    "url = 'https://www.flipkart.com/'\n",
    "driver.get(url)"
   ]
  },
  {
   "cell_type": "code",
   "execution_count": null,
   "id": "880d73f7",
   "metadata": {},
   "outputs": [],
   "source": [
    "search_sneaker = driver.find_element_by_class_name(\"_3704LK\")\n",
    "search_sneaker"
   ]
  },
  {
   "cell_type": "code",
   "execution_count": null,
   "id": "bde2549a",
   "metadata": {},
   "outputs": [],
   "source": [
    "search_sneaker.send_keys(\"sneaker\")"
   ]
  },
  {
   "cell_type": "code",
   "execution_count": null,
   "id": "f722a09b",
   "metadata": {},
   "outputs": [],
   "source": [
    "search_btn = driver.find_element_by_xpath('/html/body/div[1]/div/div[1]/div[1]/div[2]/div[2]/form/div/button')\n",
    "search_btn"
   ]
  },
  {
   "cell_type": "code",
   "execution_count": null,
   "id": "727087d3",
   "metadata": {},
   "outputs": [],
   "source": [
    "search_btn.click()"
   ]
  },
  {
   "cell_type": "code",
   "execution_count": null,
   "id": "06a6a8fd",
   "metadata": {},
   "outputs": [],
   "source": [
    "sneakers_brand = []\n",
    "for i in range(4):\n",
    "    print('scraping pages',i+1)\n",
    "    sneaker_brand = driver.find_elements_by_xpath('//div [@class=\"_2WkVRV\"]')\n",
    "    for p in sneaker_brand:\n",
    "        sneakers_brand.append(p.text)\n",
    "    next_btn = driver.find_elements_by_xpath('//a [@class=\"_1LKTO3\"]')"
   ]
  },
  {
   "cell_type": "code",
   "execution_count": null,
   "id": "19f4e5b5",
   "metadata": {},
   "outputs": [],
   "source": [
    "len(sneakers_brand)"
   ]
  },
  {
   "cell_type": "code",
   "execution_count": null,
   "id": "88f6d955",
   "metadata": {},
   "outputs": [],
   "source": [
    "sneakers_description = []\n",
    "for i in range(4):\n",
    "    print('scraping pages',i+1)\n",
    "    sneaker_description = driver.find_elements_by_xpath('//a [@class=\"IRpwTa\"]')\n",
    "    for p in sneaker_description:\n",
    "        sneakers_description.append(p.text)\n",
    "    next_btn = driver.find_elements_by_xpath('//a [@class=\"_1LKTO3\"]')"
   ]
  },
  {
   "cell_type": "code",
   "execution_count": null,
   "id": "3b78b48b",
   "metadata": {},
   "outputs": [],
   "source": [
    "len(sneakers_description)"
   ]
  },
  {
   "cell_type": "code",
   "execution_count": null,
   "id": "d32c7ce6",
   "metadata": {},
   "outputs": [],
   "source": [
    "sneakers_price = []\n",
    "for i in range(4):\n",
    "    print('scraping pages',i+1)\n",
    "    sneaker_price = driver.find_elements_by_xpath('//div [@class=\"_30jeq3\"]')\n",
    "    for p in sneaker_price:\n",
    "        sneakers_price.append(p.text)\n",
    "    next_btn = driver.find_elements_by_xpath('//a [@class=\"_1LKTO3\"]')"
   ]
  },
  {
   "cell_type": "code",
   "execution_count": null,
   "id": "c1836903",
   "metadata": {},
   "outputs": [],
   "source": [
    "len(sneakers_price)"
   ]
  },
  {
   "cell_type": "code",
   "execution_count": 302,
   "id": "9e048fab",
   "metadata": {},
   "outputs": [
    {
     "ename": "NameError",
     "evalue": "name 'sneakers_brand' is not defined",
     "output_type": "error",
     "traceback": [
      "\u001b[1;31m---------------------------------------------------------------------------\u001b[0m",
      "\u001b[1;31mNameError\u001b[0m                                 Traceback (most recent call last)",
      "\u001b[1;32m~\\AppData\\Local\\Temp/ipykernel_10836/3111339576.py\u001b[0m in \u001b[0;36m<module>\u001b[1;34m\u001b[0m\n\u001b[0;32m      1\u001b[0m \u001b[0msneakers\u001b[0m \u001b[1;33m=\u001b[0m \u001b[0mpd\u001b[0m\u001b[1;33m.\u001b[0m\u001b[0mDataFrame\u001b[0m\u001b[1;33m(\u001b[0m\u001b[1;33m)\u001b[0m\u001b[1;33m\u001b[0m\u001b[1;33m\u001b[0m\u001b[0m\n\u001b[1;32m----> 2\u001b[1;33m \u001b[0msneakers\u001b[0m\u001b[1;33m[\u001b[0m\u001b[1;34m'sneaker_brand'\u001b[0m\u001b[1;33m]\u001b[0m \u001b[1;33m=\u001b[0m \u001b[0msneakers_brand\u001b[0m\u001b[1;33m[\u001b[0m\u001b[1;33m:\u001b[0m\u001b[1;36m100\u001b[0m\u001b[1;33m]\u001b[0m\u001b[1;33m\u001b[0m\u001b[1;33m\u001b[0m\u001b[0m\n\u001b[0m\u001b[0;32m      3\u001b[0m \u001b[0msneakers\u001b[0m\u001b[1;33m[\u001b[0m\u001b[1;34m'sneaker_description'\u001b[0m\u001b[1;33m]\u001b[0m \u001b[1;33m=\u001b[0m \u001b[0msneakers_description\u001b[0m\u001b[1;33m[\u001b[0m\u001b[1;33m:\u001b[0m\u001b[1;36m100\u001b[0m\u001b[1;33m]\u001b[0m\u001b[1;33m\u001b[0m\u001b[1;33m\u001b[0m\u001b[0m\n\u001b[0;32m      4\u001b[0m \u001b[0msneakers\u001b[0m\u001b[1;33m[\u001b[0m\u001b[1;34m'sneaker_price'\u001b[0m\u001b[1;33m]\u001b[0m \u001b[1;33m=\u001b[0m \u001b[0msneakers_price\u001b[0m\u001b[1;33m[\u001b[0m\u001b[1;33m:\u001b[0m\u001b[1;36m100\u001b[0m\u001b[1;33m]\u001b[0m\u001b[1;33m\u001b[0m\u001b[1;33m\u001b[0m\u001b[0m\n\u001b[0;32m      5\u001b[0m \u001b[0msneakers\u001b[0m\u001b[1;33m\u001b[0m\u001b[1;33m\u001b[0m\u001b[0m\n",
      "\u001b[1;31mNameError\u001b[0m: name 'sneakers_brand' is not defined"
     ]
    }
   ],
   "source": [
    "sneakers = pd.DataFrame()\n",
    "sneakers['sneaker_brand'] = sneakers_brand[:100]\n",
    "sneakers['sneaker_description'] = sneakers_description[:100]\n",
    "sneakers['sneaker_price'] = sneakers_price[:100]\n",
    "sneakers"
   ]
  },
  {
   "cell_type": "markdown",
   "id": "52ec728e",
   "metadata": {},
   "source": [
    "# no...7"
   ]
  },
  {
   "cell_type": "code",
   "execution_count": null,
   "id": "dbcd1248",
   "metadata": {},
   "outputs": [],
   "source": [
    "driver = webdriver.Chrome(r'C:/Users/navin/chromedriver.exe')"
   ]
  },
  {
   "cell_type": "code",
   "execution_count": null,
   "id": "9857e971",
   "metadata": {},
   "outputs": [],
   "source": [
    "driver =webdriver.Chrome('chromedriver.exe')"
   ]
  },
  {
   "cell_type": "code",
   "execution_count": null,
   "id": "02409a4f",
   "metadata": {},
   "outputs": [],
   "source": [
    "url = 'https://www.myntra.com/shoes'\n",
    "driver.get(url)"
   ]
  },
  {
   "cell_type": "code",
   "execution_count": null,
   "id": "a8f20cad",
   "metadata": {},
   "outputs": [],
   "source": [
    "search_shoes = driver.find_elements_by_class(\"\")"
   ]
  },
  {
   "cell_type": "code",
   "execution_count": null,
   "id": "1722e77b",
   "metadata": {},
   "outputs": [],
   "source": [
    "search_shoes.send_keys(\"shoes\")"
   ]
  },
  {
   "cell_type": "code",
   "execution_count": null,
   "id": "1e2a15db",
   "metadata": {},
   "outputs": [],
   "source": [
    "search_btn = driver.find_element_by_xpath('/html/body/div[1]/div/div/header/div[2]/div[3]/a')\n",
    "search_btn"
   ]
  },
  {
   "cell_type": "code",
   "execution_count": null,
   "id": "2d519c06",
   "metadata": {},
   "outputs": [],
   "source": [
    "search_btn.click()"
   ]
  },
  {
   "cell_type": "code",
   "execution_count": null,
   "id": "60769642",
   "metadata": {},
   "outputs": [],
   "source": [
    "shoes_brand = []\n",
    "for i in range(2):\n",
    "    print('scraping pages',i+1)\n",
    "    shoe_brand = driver.find_elements_by_xpath('//h3 [@class=\"product-brand\"]')\n",
    "    for p in shoe_brand:\n",
    "        shoes_brand.append(p.text)\n",
    "    next_btn = driver.find_elements_by_xpath('//a [@class=\"pagination-next\"]')"
   ]
  },
  {
   "cell_type": "code",
   "execution_count": null,
   "id": "978ebb7e",
   "metadata": {},
   "outputs": [],
   "source": [
    "len(shoes_brand)"
   ]
  },
  {
   "cell_type": "code",
   "execution_count": null,
   "id": "bbb384f8",
   "metadata": {},
   "outputs": [],
   "source": [
    "shoes_description = []\n",
    "for i in range(2):\n",
    "    print('scraping pages',i+1)\n",
    "    shoe_description = driver.find_elements_by_xpath('//div [@class=\"product-sizes\"]')\n",
    "    for p in shoe_brand:\n",
    "        shoes_description.append(p.text)\n",
    "    next_btn = driver.find_elements_by_xpath('//a [@class=\"pagination-next\"]')"
   ]
  },
  {
   "cell_type": "code",
   "execution_count": null,
   "id": "36214fb9",
   "metadata": {},
   "outputs": [],
   "source": [
    "len(shoes_description)\n",
    " "
   ]
  },
  {
   "cell_type": "code",
   "execution_count": null,
   "id": "f745222e",
   "metadata": {},
   "outputs": [],
   "source": [
    "shoes_price = []\n",
    "for i in range(2):\n",
    "    print('scraping pages',i+1)\n",
    "    shoe_price = driver.find_elements_by_xpath('//div [@class=\"product-price\"]')\n",
    "    for p in shoe_brand:\n",
    "        shoes_price.append(p.text)\n",
    "    next_btn = driver.find_elements_by_xpath('//a [@class=\"pagination-next\"]')"
   ]
  },
  {
   "cell_type": "code",
   "execution_count": null,
   "id": "0f754293",
   "metadata": {},
   "outputs": [],
   "source": [
    "len(shoes_price)"
   ]
  },
  {
   "cell_type": "code",
   "execution_count": null,
   "id": "78234804",
   "metadata": {
    "scrolled": true
   },
   "outputs": [],
   "source": [
    "footwear = pd.DataFrame()\n",
    "footwear['shoes_brand'] = shoes_brand\n",
    "footwear['shoes_description'] = shoes_description\n",
    "footwear['shoes_price'] = shoes_price\n",
    "footwear"
   ]
  },
  {
   "cell_type": "markdown",
   "id": "6af8dbc1",
   "metadata": {},
   "source": [
    "# no.-8"
   ]
  },
  {
   "cell_type": "code",
   "execution_count": null,
   "id": "89981af7",
   "metadata": {},
   "outputs": [],
   "source": [
    "driver = webdriver.Chrome(r'C:/Users/navin/chromedriver.exe')"
   ]
  },
  {
   "cell_type": "code",
   "execution_count": null,
   "id": "ce9c6775",
   "metadata": {},
   "outputs": [],
   "source": [
    "driver =webdriver.Chrome('chromedriver.exe')"
   ]
  },
  {
   "cell_type": "code",
   "execution_count": null,
   "id": "14a5448b",
   "metadata": {},
   "outputs": [],
   "source": [
    "url = 'https://www.amazon.in/'\n",
    "driver.get(url)"
   ]
  },
  {
   "cell_type": "code",
   "execution_count": null,
   "id": "85d77bed",
   "metadata": {},
   "outputs": [],
   "source": [
    "search_laptop = driver.find_elements_by_xpath(\"\")\n"
   ]
  },
  {
   "cell_type": "markdown",
   "id": "12d3d6ec",
   "metadata": {},
   "source": [
    "# no...9"
   ]
  },
  {
   "cell_type": "code",
   "execution_count": 155,
   "id": "41f0a544",
   "metadata": {},
   "outputs": [],
   "source": [
    "driver = webdriver.Chrome(r'C:/Users/navin/chromedriver.exe')"
   ]
  },
  {
   "cell_type": "code",
   "execution_count": 156,
   "id": "36c57250",
   "metadata": {},
   "outputs": [],
   "source": [
    "driver= webdriver.Chrome(\"chromedriver.exe\")"
   ]
  },
  {
   "cell_type": "code",
   "execution_count": 157,
   "id": "d2895ecb",
   "metadata": {},
   "outputs": [],
   "source": [
    "url = 'https://www.ambitionbox.com/'\n",
    "driver.get(url)"
   ]
  },
  {
   "cell_type": "code",
   "execution_count": 158,
   "id": "bfcf4b31",
   "metadata": {},
   "outputs": [
    {
     "data": {
      "text/plain": [
       "<selenium.webdriver.remote.webelement.WebElement (session=\"9cf881de003ef13108f72318f361c27a\", element=\"a6b5b0e8-297e-40d5-8d53-c6227b350c56\")>"
      ]
     },
     "execution_count": 158,
     "metadata": {},
     "output_type": "execute_result"
    }
   ],
   "source": [
    "search_jobs = driver.find_element_by_xpath('/html/body/div/div/div/div[2]/div[1]/div/div/div/div/span/input')\n",
    "search_jobs"
   ]
  },
  {
   "cell_type": "code",
   "execution_count": 159,
   "id": "daf0afcc",
   "metadata": {},
   "outputs": [],
   "source": [
    "search_jobs.send_keys(\"data scientist\")"
   ]
  },
  {
   "cell_type": "code",
   "execution_count": null,
   "id": "b453a85a",
   "metadata": {},
   "outputs": [],
   "source": []
  },
  {
   "cell_type": "code",
   "execution_count": null,
   "id": "20bfe994",
   "metadata": {},
   "outputs": [],
   "source": []
  },
  {
   "cell_type": "code",
   "execution_count": null,
   "id": "40f5158e",
   "metadata": {},
   "outputs": [],
   "source": []
  }
 ],
 "metadata": {
  "kernelspec": {
   "display_name": "Python 3 (ipykernel)",
   "language": "python",
   "name": "python3"
  },
  "language_info": {
   "codemirror_mode": {
    "name": "ipython",
    "version": 3
   },
   "file_extension": ".py",
   "mimetype": "text/x-python",
   "name": "python",
   "nbconvert_exporter": "python",
   "pygments_lexer": "ipython3",
   "version": "3.9.7"
  }
 },
 "nbformat": 4,
 "nbformat_minor": 5
}
