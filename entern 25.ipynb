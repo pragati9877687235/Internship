{
 "cells": [
  {
   "cell_type": "markdown",
   "id": "a33a7690",
   "metadata": {},
   "source": [
    "# To find factorial of any no"
   ]
  },
  {
   "cell_type": "code",
   "execution_count": 5,
   "id": "769129fd",
   "metadata": {},
   "outputs": [],
   "source": [
    "def factorial(x):\n",
    "    if(x<0):\n",
    "        return 0\n",
    "    elif x==0 or x==1:\n",
    "        return 1\n",
    "    else:\n",
    "        fact=1\n",
    "        while(x>1):\n",
    "            fact=fact*x\n",
    "            x=x-1\n",
    "        print(\"factorial = \",fact)"
   ]
  },
  {
   "cell_type": "code",
   "execution_count": 7,
   "id": "211c098c",
   "metadata": {},
   "outputs": [
    {
     "name": "stdout",
     "output_type": "stream",
     "text": [
      "factorial =  120\n"
     ]
    }
   ],
   "source": [
    "factorial(5)"
   ]
  },
  {
   "cell_type": "markdown",
   "id": "0daa096e",
   "metadata": {},
   "source": [
    "# To find whether number is prime or composite"
   ]
  },
  {
   "cell_type": "code",
   "execution_count": 1,
   "id": "983256ec",
   "metadata": {},
   "outputs": [
    {
     "name": "stdout",
     "output_type": "stream",
     "text": [
      "enter any no21\n",
      "no is composite\n"
     ]
    }
   ],
   "source": [
    "x=int(input(\"enter any no\"))\n",
    "if(x>1):\n",
    "    for i in range(2,x):\n",
    "        if(x%i==0):\n",
    "            print(\"no is composite\")\n",
    "            break\n",
    "    else:\n",
    "        print(\" no. is prime\")\n",
    "elif(x==0 or x==1):\n",
    "    print (\" no is neither prime nor composite\")\n",
    "else:\n",
    "    print(\"number is not valid\")\n"
   ]
  },
  {
   "cell_type": "markdown",
   "id": "676e886b",
   "metadata": {},
   "source": [
    "# To check sting is palindrom or not"
   ]
  },
  {
   "cell_type": "code",
   "execution_count": 9,
   "id": "520f8fb0",
   "metadata": {},
   "outputs": [
    {
     "name": "stdout",
     "output_type": "stream",
     "text": [
      "enter string:malayalam\n",
      "the string is palindrom\n"
     ]
    }
   ],
   "source": [
    "string=input(\"enter string:\")\n",
    "if(string==string[::-1]):\n",
    "    print(\"the string is palindrom\")\n",
    "else:\n",
    "    print(\"the string is not palindrom\")\n",
    "    "
   ]
  },
  {
   "cell_type": "markdown",
   "id": "0cfada44",
   "metadata": {},
   "source": [
    "# To find hypotenious of right angle triangle"
   ]
  },
  {
   "cell_type": "code",
   "execution_count": 10,
   "id": "6eda61b7",
   "metadata": {},
   "outputs": [
    {
     "name": "stdout",
     "output_type": "stream",
     "text": [
      "enter base side of right angle triangle   2\n",
      "enter height side of right angle triangle   3\n",
      "hypotenous of right angle triangle is   3.605551275463989\n"
     ]
    }
   ],
   "source": [
    "x=float(input(\"enter base side of right angle triangle   \"))\n",
    "y=float(input(\"enter height side of right angle triangle   \"))\n",
    "z=(x**2+y**2)**(1/2)\n",
    "print(\"hypotenous of right angle triangle is  \",z)"
   ]
  },
  {
   "cell_type": "markdown",
   "id": "4f5254c1",
   "metadata": {},
   "source": [
    "# To find frequency of character in string"
   ]
  },
  {
   "cell_type": "code",
   "execution_count": 11,
   "id": "95491c47",
   "metadata": {},
   "outputs": [
    {
     "name": "stdout",
     "output_type": "stream",
     "text": [
      "enter the stringkarnataka\n",
      "{'k': 2, 'a': 4, 'r': 1, 'n': 1, 't': 1}\n"
     ]
    }
   ],
   "source": [
    "str1 = input (\"enter the string\")\n",
    "d1 =dict()\n",
    "for c in str1:\n",
    "    if c in d1:\n",
    "        d1[c] = d1[c] + 1\n",
    "    else:\n",
    "        d1[c] = 1\n",
    "print (d1)        "
   ]
  },
  {
   "cell_type": "code",
   "execution_count": null,
   "id": "a71fe4f2",
   "metadata": {},
   "outputs": [],
   "source": []
  }
 ],
 "metadata": {
  "kernelspec": {
   "display_name": "Python 3 (ipykernel)",
   "language": "python",
   "name": "python3"
  },
  "language_info": {
   "codemirror_mode": {
    "name": "ipython",
    "version": 3
   },
   "file_extension": ".py",
   "mimetype": "text/x-python",
   "name": "python",
   "nbconvert_exporter": "python",
   "pygments_lexer": "ipython3",
   "version": "3.9.7"
  }
 },
 "nbformat": 4,
 "nbformat_minor": 5
}
